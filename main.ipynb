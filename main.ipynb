{
 "cells": [
  {
   "cell_type": "markdown",
   "id": "c0c56739",
   "metadata": {},
   "source": [
    "## Predictive Modeling and Estimation of Housing Prices\n",
    "\n",
    "* This script 'house_price_estimator.py' contain code sections for performing various regressions (Linear, Lasso, Ridge, Decision Tree, Gradient Boosting, Random Forest, K Nearest Neighbor, and Support Vector Regression) sequentially to predict residential property prices.\n",
    "\n",
    "* For performance analysis, Mean Square Error (MSE) and R2 Score metrics have been calculated. The regressors exhibit varying performance based on the dataset. Therefore, the selection of the regressor is dependent on the specific task. Notably, our findings suggest that linear regressors (linear, lasso, ridge) did not perform well with our data and Random Forest regressor was the best among all.\n",
    "\n",
    "* Access the data from the 'Dataset' folder if it's not already available. Ensure the execution of the necessary cells each time you restart the notebook.\n",
    "\n",
    "* Occasional notebook restarts might be necessary. In such cases, remember to re-execute the cells containing completed code, starting from the top, before proceeding.The provided cells ensure the proper setup of your environment for seamless execution."
   ]
  },
  {
   "cell_type": "code",
   "execution_count": 1,
   "id": "b4c0d5b7",
   "metadata": {},
   "outputs": [
    {
     "name": "stdout",
     "output_type": "stream",
     "text": [
      "Collecting Panda (from -r requirements.txt (line 2))\n",
      "  Downloading panda-0.3.1.tar.gz (5.8 kB)\n",
      "  Preparing metadata (setup.py): started\n",
      "  Preparing metadata (setup.py): finished with status 'done'\n",
      "Building wheels for collected packages: Panda\n",
      "  Building wheel for Panda (setup.py): started\n",
      "  Building wheel for Panda (setup.py): finished with status 'done'\n",
      "  Created wheel for Panda: filename=panda-0.3.1-py3-none-any.whl size=7239 sha256=faa78c4b64145012b48e1bcca72c15fed5692c5976da0eb8331297771fdeec0b\n",
      "  Stored in directory: /Users/pujasaha/Library/Caches/pip/wheels/df/5c/39/36f8dae25a1e88d6ec4411dec4a143781e64fdff6897758eec\n",
      "Successfully built Panda\n",
      "Installing collected packages: Panda\n",
      "Successfully installed Panda-0.3.1\n"
     ]
    }
   ],
   "source": [
    "#Install requirements\n",
    "!pip install -r requirements.txt | grep -v \"already satisfied\""
   ]
  },
  {
   "cell_type": "markdown",
   "id": "d50669f5",
   "metadata": {},
   "source": [
    "Important! After you have ran pip install, please restart the kernel using the **Kernel** menu "
   ]
  },
  {
   "cell_type": "code",
   "execution_count": 2,
   "id": "494a96a7",
   "metadata": {},
   "outputs": [],
   "source": [
    "import pandas as pd\n",
    "import numpy as np\n",
    "import matplotlib.pyplot as plt\n",
    "from sklearn.model_selection import train_test_split, GridSearchCV\n",
    "from sklearn.preprocessing import StandardScaler\n",
    "from sklearn.linear_model import LinearRegression, Lasso, Ridge\n",
    "from sklearn.svm import SVR\n",
    "from sklearn.neighbors import KNeighborsRegressor\n",
    "from sklearn.tree import DecisionTreeRegressor\n",
    "from sklearn.ensemble import GradientBoostingRegressor, RandomForestRegressor\n",
    "from sklearn.metrics import mean_squared_error, r2_score"
   ]
  },
  {
   "cell_type": "markdown",
   "id": "2130d209",
   "metadata": {},
   "source": [
    "## Data Loading, Splitting and Scaling"
   ]
  },
  {
   "cell_type": "code",
   "execution_count": 43,
   "id": "4fbac51e",
   "metadata": {},
   "outputs": [],
   "source": [
    "import warnings\n",
    "\n",
    "# Ignore all warnings\n",
    "warnings.simplefilter(\"ignore\")\n",
    "\n",
    "#loading dataset\n",
    "data = pd.read_csv('Dataset/Processed_Data/numerical_dataset.csv')\n",
    "X = data.drop('SalePrice', axis=1)\n",
    "y = data['SalePrice']\n",
    "\n",
    "#splitting the data into training and testing sets\n",
    "X_train, X_test, y_train, y_test = train_test_split(X, y, test_size=0.2, random_state=42)\n",
    "\n",
    "#feature scaling\n",
    "scaler = StandardScaler()\n",
    "X_train = scaler.fit_transform(X_train)\n",
    "X_test = scaler.transform(X_test)"
   ]
  },
  {
   "cell_type": "markdown",
   "id": "0f8bbdaa",
   "metadata": {},
   "source": [
    "## Linear Regression"
   ]
  },
  {
   "cell_type": "code",
   "execution_count": 65,
   "id": "d2743954",
   "metadata": {},
   "outputs": [
    {
     "name": "stdout",
     "output_type": "stream",
     "text": [
      "Fitting 5 folds for each of 1 candidates, totalling 5 fits\n",
      "Mean Squared Error: 2.568985421986381e+24\n",
      "R-squared (R2) Score: -5.059159498375018e+26\n"
     ]
    }
   ],
   "source": [
    "# Initializing model\n",
    "linear_reg = LinearRegression()\n",
    "\n",
    "# Defining hyperparameters (Linear Regression doesn't have hyperparameters to tune like Lasso or Ridge)\n",
    "param_grid = {}  # Empty dictionary as Linear Regression doesn't have specific hyperparameters\n",
    "\n",
    "# Performing GridSearchCV (Not for hyperparameter tuning, but for consistency)\n",
    "grid_search = GridSearchCV(estimator=linear_reg, param_grid=param_grid, \n",
    "                           cv=5, scoring='neg_mean_squared_error', verbose=1)\n",
    "\n",
    "# Fitting the model on the entire training data\n",
    "grid_search.fit(X_train, y_train)\n",
    "\n",
    "# Using the best model obtained directly (as Linear Regression doesn't have hyperparameters to tune)\n",
    "best_linear_reg = grid_search.best_estimator_\n",
    "best_linear_reg.fit(X_train, y_train)\n",
    "\n",
    "# Predicting on the test set using the final model\n",
    "y_pred = best_linear_reg.predict(X_test)\n",
    "\n",
    "# Calculating RMSE (Root Mean Squared Error) on the test set\n",
    "mse = mean_squared_error(y_test, y_pred)\n",
    "print(f\"Mean Squared Error: {mse}\")\n",
    "\n",
    "# Calculating R Squared Error (R2 Score)\n",
    "r2 = r2_score(y_test, y_pred)\n",
    "print(f\"R-squared (R2) Score: {r2}\")\n"
   ]
  },
  {
   "cell_type": "markdown",
   "id": "0f22d857",
   "metadata": {},
   "source": [
    "## Lasso Regression"
   ]
  },
  {
   "cell_type": "code",
   "execution_count": 45,
   "id": "c3de9bcc",
   "metadata": {},
   "outputs": [
    {
     "name": "stdout",
     "output_type": "stream",
     "text": [
      "Fitting 5 folds for each of 3 candidates, totalling 15 fits\n",
      "Mean Squared Error: 0.005102244499532466\n",
      "R-squared (R2) Score: -0.004796232081468288\n"
     ]
    }
   ],
   "source": [
    "#initializing model\n",
    "lasso_reg = Lasso()\n",
    "\n",
    "#defining hyperparameters \n",
    "param_grid = {\n",
    "    'alpha': [0.1, 1.0, 10.0]  # Regularization strength\n",
    "}\n",
    "\n",
    "#performing GridSearchCV to tune hyperparameter\n",
    "grid_search = GridSearchCV(estimator=lasso_reg, param_grid=param_grid, \n",
    "                           cv=5, scoring='neg_mean_squared_error', verbose=1)\n",
    "\n",
    "#fitting the model on the entire training data\n",
    "grid_search.fit(X_train, y_train)\n",
    "\n",
    "#getting the best hyperparameters\n",
    "best_params = grid_search.best_params_\n",
    "\n",
    "#using the best hyperparameters to create the final model\n",
    "best_lasso_reg = Lasso(**best_params)\n",
    "best_lasso_reg.fit(X_train, y_train)\n",
    "\n",
    "#predicting on the test set using the final model\n",
    "y_pred = best_lasso_reg.predict(X_test)\n",
    "\n",
    "#calculating RMSE (Root Mean Squared Error) on test set\n",
    "mse = (mean_squared_error(y_test, y_pred))\n",
    "print(f\"Mean Squared Error: {mse}\")\n",
    "\n",
    "#calculating R Squared Error (R2 Score)\n",
    "r2 = r2_score(y_test, y_pred)\n",
    "print(f\"R-squared (R2) Score: {r2}\")"
   ]
  },
  {
   "cell_type": "markdown",
   "id": "2e6f390e",
   "metadata": {},
   "source": [
    "## Ridge Regression"
   ]
  },
  {
   "cell_type": "code",
   "execution_count": 46,
   "id": "6dd22b88",
   "metadata": {},
   "outputs": [
    {
     "name": "stdout",
     "output_type": "stream",
     "text": [
      "Fitting 5 folds for each of 3 candidates, totalling 15 fits\n",
      "Root Mean Squared Error: 0.005955998468935676\n",
      "R-squared (R2) Score: -0.17292787917512475\n"
     ]
    }
   ],
   "source": [
    "#initializing model\n",
    "ridge_reg = Ridge()\n",
    "\n",
    "#defining hyperparameters for tuning\n",
    "param_grid = {\n",
    "    'alpha': [0.1, 1.0, 10.0]  # Regularization strength\n",
    "}\n",
    "\n",
    "#performing GridSearchCV to tune hyperparameter\n",
    "grid_search = GridSearchCV(estimator=ridge_reg, param_grid=param_grid, \n",
    "                           cv=5, scoring='neg_mean_squared_error', verbose=1)\n",
    "\n",
    "#fitting the model on the entire training data\n",
    "grid_search.fit(X_train, y_train)\n",
    "\n",
    "#getting the best hyperparameters\n",
    "best_params = grid_search.best_params_\n",
    "\n",
    "#using the best hyperparameters to create the final model\n",
    "best_ridge_reg = Ridge(**best_params)\n",
    "best_ridge_reg.fit(X_train, y_train)\n",
    "\n",
    "#predict on the test set using the final model\n",
    "y_pred = best_ridge_reg.predict(X_test)\n",
    "\n",
    "#calculating RMSE (Root Mean Squared Error) on test set\n",
    "mse = (mean_squared_error(y_test, y_pred))\n",
    "print(f\"Root Mean Squared Error: {mse}\")\n",
    "\n",
    "#calculating R Squared Error (R2 Score)\n",
    "r2 = r2_score(y_test, y_pred)\n",
    "print(f\"R-squared (R2) Score: {r2}\")"
   ]
  },
  {
   "cell_type": "markdown",
   "id": "8324a7c6",
   "metadata": {},
   "source": [
    "## Decision Tree Regression "
   ]
  },
  {
   "cell_type": "code",
   "execution_count": 47,
   "id": "afb6f3f1",
   "metadata": {},
   "outputs": [
    {
     "name": "stdout",
     "output_type": "stream",
     "text": [
      "Fitting 5 folds for each of 36 candidates, totalling 180 fits\n",
      "Mean Squared Error: 0.0014824870845462689\n",
      "R-squared (R2) Score: 0.7080505575932262\n"
     ]
    }
   ],
   "source": [
    "#initializing model \n",
    "tree_reg = DecisionTreeRegressor()\n",
    "\n",
    "#defining hyperparameters for tuning\n",
    "param_grid = {\n",
    "    'max_depth': [3, 5, 7, None],  # Maximum depth of the tree\n",
    "    'min_samples_split': [2, 5, 10],  # Minimum number of samples required to split an internal node\n",
    "    'min_samples_leaf': [1, 2, 4]  # Minimum number of samples required to be at a leaf node\n",
    "}\n",
    "\n",
    "#performing GridSearchCV for hyperparameter tuning\n",
    "grid_search = GridSearchCV(estimator=tree_reg, param_grid=param_grid, \n",
    "                           cv=5, scoring='neg_mean_squared_error', verbose=1)\n",
    "\n",
    "#fitting the model on the entire training data with hyperparameter tuning\n",
    "grid_search.fit(X_train, y_train)\n",
    "\n",
    "#getting the best hyperparameters\n",
    "best_params = grid_search.best_params_\n",
    "\n",
    "#using the best hyperparameters to create the final model\n",
    "best_tree_reg = DecisionTreeRegressor(**best_params)\n",
    "best_tree_reg.fit(X_train, y_train)\n",
    "\n",
    "#predicting on the test set using the final model\n",
    "y_pred = best_tree_reg.predict(X_test)\n",
    "\n",
    "#calculating RMSE (Root Mean Squared Error) on test set\n",
    "mse = mean_squared_error(y_test, y_pred)\n",
    "print(f\"Mean Squared Error: {mse}\")\n",
    "\n",
    "#calculating R Squared Error (R2 Score)\n",
    "r2 = r2_score(y_test, y_pred)\n",
    "print(f\"R-squared (R2) Score: {r2}\")"
   ]
  },
  {
   "cell_type": "markdown",
   "id": "fa291796",
   "metadata": {},
   "source": [
    "## Gradient Boosting Regression"
   ]
  },
  {
   "cell_type": "code",
   "execution_count": 23,
   "id": "7df5664d",
   "metadata": {},
   "outputs": [
    {
     "name": "stdout",
     "output_type": "stream",
     "text": [
      "Fitting 5 folds for each of 8 candidates, totalling 40 fits\n",
      "Mean Squared Error: 0.0015780175041898582\n",
      "R-squared (R2) Score: 0.6892375419261338\n"
     ]
    }
   ],
   "source": [
    "#initializing model \n",
    "gb_reg = GradientBoostingRegressor()\n",
    "\n",
    "#defining hyperparameters for tuning\n",
    "param_grid = {\n",
    "    'n_estimators': [100, 200],  # Number of trees in the forest\n",
    "    'learning_rate': [0.1, 0.05],  # Step size shrinkage used in update to prevent overfitting\n",
    "    'max_depth': [3, 4],  # Maximum depth of the individual trees\n",
    "}\n",
    "\n",
    "#performing GridSearchCV for tuning hyperparameter \n",
    "grid_search = GridSearchCV(estimator=gb_reg, param_grid=param_grid, \n",
    "                           cv=5, scoring='neg_mean_squared_error', verbose=1)\n",
    "\n",
    "#fitting the model on the entire training data with tuned hyperparameter \n",
    "grid_search.fit(X_train, y_train)\n",
    "\n",
    "#getting the best hyperparameters\n",
    "best_params = grid_search.best_params_\n",
    "\n",
    "#using the best hyperparameters to create the final model\n",
    "best_gb_reg = GradientBoostingRegressor(**best_params)\n",
    "best_gb_reg.fit(X_train, y_train)\n",
    "\n",
    "#### predicting on the test set using the final model\n",
    "y_pred = best_gb_reg.predict(X_test)\n",
    "\n",
    "#calculating RMSE (Root Mean Squared Error) on test set\n",
    "mse = (mean_squared_error(y_test, y_pred))\n",
    "print(f\"Mean Squared Error: {mse}\")\n",
    "\n",
    "#calculating R Squared Error (R2 Score)\n",
    "r2 = r2_score(y_test, y_pred)\n",
    "print(f\"R-squared (R2) Score: {r2}\")"
   ]
  },
  {
   "cell_type": "markdown",
   "id": "ab7116c5",
   "metadata": {},
   "source": [
    "## Random Forest Regression"
   ]
  },
  {
   "cell_type": "code",
   "execution_count": 51,
   "id": "57199c57",
   "metadata": {},
   "outputs": [
    {
     "name": "stdout",
     "output_type": "stream",
     "text": [
      "Fitting 5 folds for each of 108 candidates, totalling 540 fits\n",
      "Mean Squared Error: 0.0012621849192973396\n",
      "R-squared (R2) Score: 0.7514351475676575\n"
     ]
    }
   ],
   "source": [
    "#initializing model \n",
    "forest_reg = RandomForestRegressor()\n",
    "\n",
    "#defining hyperparameters for tuning\n",
    "param_grid = {\n",
    "    'n_estimators': [100, 200, 300],  # Number of trees in the forest\n",
    "    'max_depth': [None, 5, 10, 15],  # Maximum depth of the trees\n",
    "    'min_samples_split': [2, 5, 10],  # Minimum number of samples required to split an internal node\n",
    "    'min_samples_leaf': [1, 2, 4]  # Minimum number of samples required to be at a leaf node\n",
    "}\n",
    "\n",
    "#performing GridSearchCV to tune hyperparameter \n",
    "grid_search = GridSearchCV(estimator=forest_reg, param_grid=param_grid, \n",
    "                           cv=5, scoring='neg_mean_squared_error', verbose=1)\n",
    "\n",
    "#fitting the model on the entire training data \n",
    "grid_search.fit(X_train, y_train)\n",
    "\n",
    "#getting the best hyperparameters\n",
    "best_params = grid_search.best_params_\n",
    "\n",
    "#using the best hyperparameters to create the final model\n",
    "best_forest_reg = RandomForestRegressor(**best_params)\n",
    "best_forest_reg.fit(X_train, y_train)\n",
    "\n",
    "#predicting on the test set using the final model\n",
    "y_pred = best_forest_reg.predict(X_test)\n",
    "\n",
    "#calculating RMSE (Root Mean Squared Error) on test set\n",
    "mse = mean_squared_error(y_test, y_pred)\n",
    "print(f\"Mean Squared Error: {mse}\")\n",
    "\n",
    "#calculating R Squared Error (R2 Score)\n",
    "r2 = r2_score(y_test, y_pred)\n",
    "print(f\"R-squared (R2) Score: {r2}\")"
   ]
  },
  {
   "cell_type": "markdown",
   "id": "4f933425",
   "metadata": {},
   "source": [
    "## K Nearest Neighbour Regression"
   ]
  },
  {
   "cell_type": "code",
   "execution_count": 56,
   "id": "ed2fdd46",
   "metadata": {},
   "outputs": [
    {
     "name": "stdout",
     "output_type": "stream",
     "text": [
      "Fitting 5 folds for each of 12 candidates, totalling 60 fits\n",
      "Mean Squared Error: 0.05544939829867527\n",
      "R-squared (R2) Score: 0.3945052145785629\n"
     ]
    }
   ],
   "source": [
    "#initializing model \n",
    "knn_reg = KNeighborsRegressor()\n",
    "\n",
    "#defining hyperparameters\n",
    "param_grid = {\n",
    "    'n_neighbors': [3, 5, 7],  # Number of neighbors to consider\n",
    "    'weights': ['uniform', 'distance'],  # Weight function used in prediction\n",
    "    'p': [1, 2]  # Power parameter for the Minkowski metric\n",
    "}\n",
    "\n",
    "#performing GridSearchCV to tune hyperparameters\n",
    "grid_search = GridSearchCV(estimator=knn_reg, param_grid=param_grid, \n",
    "                           cv=5, scoring='neg_mean_squared_error', verbose=1)\n",
    "\n",
    "#fitting the model on the entire training data\n",
    "grid_search.fit(X_train, y_train)\n",
    "\n",
    "#getting the best hyperparameters\n",
    "best_params = grid_search.best_params_\n",
    "\n",
    "#using the best hyperparameters to create the final model\n",
    "best_knn_reg = KNeighborsRegressor(**best_params)\n",
    "best_knn_reg.fit(X_train, y_train)\n",
    "\n",
    "#predicting on the test set using the final model\n",
    "y_pred = best_knn_reg.predict(X_test)\n",
    "\n",
    "#calculating RMSE (Root Mean Squared Error) on test set\n",
    "mse = np.sqrt(mean_squared_error(y_test, y_pred))\n",
    "print(f\"Mean Squared Error: {mse}\")\n",
    "\n",
    "#calculating R Squared Error (R2 Score)\n",
    "r2 = r2_score(y_test, y_pred)\n",
    "print(f\"R-squared (R2) Score: {r2}\")"
   ]
  },
  {
   "cell_type": "markdown",
   "id": "91f07dce",
   "metadata": {},
   "source": [
    "## Support Vector Regression"
   ]
  },
  {
   "cell_type": "code",
   "execution_count": 57,
   "id": "709fd0ee",
   "metadata": {},
   "outputs": [
    {
     "name": "stdout",
     "output_type": "stream",
     "text": [
      "Fitting 5 folds for each of 12 candidates, totalling 60 fits\n",
      "Mean Squared Error: 0.004922946006320391\n",
      "R-squared (R2) Score: 0.03051341456793988\n"
     ]
    }
   ],
   "source": [
    "#initializing model \n",
    "svr = SVR()\n",
    "\n",
    "#defining hyperparameters for tuning\n",
    "parameters = {\n",
    "    'kernel': ['linear', 'rbf'],\n",
    "    'C': [0.1, 1, 10],\n",
    "    'gamma': ['scale', 'auto']\n",
    "}\n",
    "\n",
    "#performing GridSearchCV for hyperparameter tuning with cross-validation\n",
    "grid_search = GridSearchCV(svr, parameters, cv=5, scoring='neg_mean_squared_error', verbose=1)\n",
    "grid_search.fit(X_train, y_train)\n",
    "\n",
    "#selecting best parameters and estimator from GridSearchCV\n",
    "best_params = grid_search.best_params_\n",
    "best_estimator = grid_search.best_estimator_\n",
    "\n",
    "#fiting the best estimator on the training data\n",
    "best_estimator.fit(X_train, y_train)\n",
    "\n",
    "#predicting on the test set\n",
    "y_pred = best_estimator.predict(X_test)\n",
    "\n",
    "#calculating RMSE (Root Mean Squared Error)\n",
    "mse = (mean_squared_error(y_test, y_pred))\n",
    "print(f\"Mean Squared Error: {mse}\")\n",
    "\n",
    "#calculating R Squared Error (R2 Score)\n",
    "r2 = r2_score(y_test, y_pred)\n",
    "print(f\"R-squared (R2) Score: {r2}\")"
   ]
  },
  {
   "cell_type": "markdown",
   "id": "db7dfb81",
   "metadata": {},
   "source": [
    "## Comparison of Regressors"
   ]
  },
  {
   "cell_type": "code",
   "execution_count": 66,
   "id": "d4358fc1",
   "metadata": {},
   "outputs": [
    {
     "data": {
      "image/png": "[encoded data removed]",
      "text/plain": [
       "<Figure size 1500x1000 with 1 Axes>"
      ]
     },
     "metadata": {},
     "output_type": "display_data"
    }
   ],
   "source": [
    "regressors = ['Linear', 'Lasso', 'Ridge', 'Decision Tree', 'Gradient Boosting', 'Random Forest', 'K Nearest Neighbour', 'Support Vector']\n",
    "scores = [-356, -0.004, -0.172, 0.708, 0.689, 0.751, 0.395, 0.031]  \n",
    "\n",
    "plt.figure(figsize=(15, 10))\n",
    "plt.bar(regressors, scores, color='skyblue')\n",
    "plt.xlabel('Regressors')\n",
    "plt.ylabel('R-squared Score')\n",
    "plt.title('Comparison of Regressors')\n",
    "plt.ylim(-1, 1) \n",
    "plt.grid(axis='y')\n",
    "\n",
    "plt.show()\n"
   ]
  },
  {
   "cell_type": "code",
   "execution_count": 72,
   "id": "8bbc24a1",
   "metadata": {},
   "outputs": [
    {
     "data": {
      "image/png": "[encoded data removed]",
      "text/plain": [
       "<Figure size 1500x1000 with 1 Axes>"
      ]
     },
     "metadata": {},
     "output_type": "display_data"
    }
   ],
   "source": [
    "regressors = ['Linear', 'Lasso', 'Ridge', 'Decision Tree', 'Gradient Boosting', 'Random Forest', 'K Nearest Neighbour', 'Support Vector']\n",
    "mse= [163, 0.0051, 0.0059, 0.0014, 0.0015, 0.0012, 0.0554, 0.0049]  \n",
    "\n",
    "plt.figure(figsize=(15, 10))\n",
    "plt.bar(regressors, mse, color='skyblue')\n",
    "plt.xlabel('Regressors')\n",
    "plt.ylabel('Mean Squarred Error')\n",
    "plt.title('Comparison of Regressors')\n",
    "plt.ylim(0,0.1) \n",
    "plt.grid(axis='y')\n",
    "\n",
    "plt.show()"
   ]
  },
  {
   "cell_type": "code",
   "execution_count": null,
   "id": "2fc73fab",
   "metadata": {},
   "outputs": [],
   "source": []
  }
 ],
 "metadata": {
  "kernelspec": {
   "display_name": "Python 3 (ipykernel)",
   "language": "python",
   "name": "python3"
  },
  "language_info": {
   "codemirror_mode": {
    "name": "ipython",
    "version": 3
   },
   "file_extension": ".py",
   "mimetype": "text/x-python",
   "name": "python",
   "nbconvert_exporter": "python",
   "pygments_lexer": "ipython3",
   "version": "3.11.5"
  }
 },
 "nbformat": 4,
 "nbformat_minor": 5
}
